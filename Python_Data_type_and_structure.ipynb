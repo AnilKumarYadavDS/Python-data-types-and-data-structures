{
  "nbformat": 4,
  "nbformat_minor": 0,
  "metadata": {
    "colab": {
      "provenance": []
    },
    "kernelspec": {
      "name": "python3",
      "display_name": "Python 3"
    },
    "language_info": {
      "name": "python"
    }
  },
  "cells": [
    {
      "cell_type": "markdown",
      "source": [
        "#**Data Types and Structures**"
      ],
      "metadata": {
        "id": "MwQbBr8Rq2mj"
      }
    },
    {
      "cell_type": "markdown",
      "source": [
        "**THEORETICAL QUESTIONS AND ANSWERS**"
      ],
      "metadata": {
        "id": "e9NbVJK8rHIB"
      }
    },
    {
      "cell_type": "markdown",
      "source": [
        "1. What are data structures, and why are they important?\n",
        "   - The way of organizing the data and storing th data efficiently which is called as data structures.\n",
        "   - In Python, usually there are two data types.\n",
        "    - Mutable data types;\n",
        "      - list[], dict{}, set{1,3}, bytearray\n",
        "    - Immutable data types\n",
        "      - str, int, float, bool, frozenset, tuple\n",
        "   - It is very important to defined the property of data in python that's why we used it to managing, storing, and oraganizing the data.\n"
      ],
      "metadata": {
        "id": "uo7V-KBOrcpg"
      }
    },
    {
      "cell_type": "markdown",
      "source": [
        "2.  Explain the difference between mutable and immutable data types with examples?\n",
        "  - Mutable data types; we can change, modify, replace, edit the data after the creation of data.\n",
        "     - list1 = [1, 'anil', 2.3, pw, ds] >> here it is the type of mutable data type.\n",
        "     - list1[1] =data_science >> here anil will be removed from the list and changed as 'data_science'.\n",
        "     - list1 = [1, data_science, 2.3, pw, ds]\n",
        "     - example of mutable data types:\n",
        "     -  list[], dict{}, set{1,3}, bytearray\n",
        "\n",
        "   - Immutable data types; The data which cannot modify and edit after the creation this called as immutable data types.\n",
        "      - a = (1, 'pw', 3) >> here it is tupe data type which is the immutable in python.\n",
        "      - a[1] = 'anil' >> it will return type error, because tuple does not support item aasignment.\n",
        "      - examples of immutable data types >>\n",
        "      - str, int, float, bool, frozenset, tuple\n"
      ],
      "metadata": {
        "id": "mT5oigpiti9x"
      }
    },
    {
      "cell_type": "markdown",
      "source": [
        "3. What are the main differences between lists and tuples in Python?\n",
        "   - lists are mutable data types.\n",
        "   - It can store any data types.\n",
        "   - Lists are heterogenous data types.\n",
        "   - It is an ordererd collection of lements that can be of any data types.\n",
        "   - In list we can store anythings like int, float, str, bool, frozenset, etc.\n",
        "   - In list we can access the elements of data.\n",
        "       -\n",
        "       examples of list:\n",
        "       - a = ['Anil', 'PW', 2.3, 1, none, bool, True, not] >> It is the list data type.\n",
        "       - type(a) >> Here you will get the list in result.\n",
        "       - List\n",
        "       - a[2] = 'Science' >> In list 2.3 will be replace by 'Science'\n",
        "   \n",
        "  - tuples are immutable data types.\n",
        "  - It is an ordererd collection of elements.\n",
        "  - It can store any data types.\n",
        "  - tuples are like also list data types.\n",
        "  - It also stores the heterogenous data types.\n",
        "      - But in tuples we can't change, modify, replace after the creation of the elements.\n",
        "      - Examples of tuples are:\n",
        "      - a = (1, 2, 'Anil', 2.3) >> tuples are defined in the parenthesis.\n",
        "      - a[2] = 'PW' >> You will get error."
      ],
      "metadata": {
        "id": "BhxToF-AxEW4"
      }
    },
    {
      "cell_type": "markdown",
      "source": [
        "4. Describe how dictionaries store data?\n",
        "   - Dictionaries sores the data in key-value pairs.\n",
        "   - It is mutable data type.\n",
        "   - We can modify, remove the value in dictionaries, but in dict the key cannot changes after the creation.\n",
        "       - Examples of the dict:\n",
        "       - a = {\"name\": \"Anil\", \"Subject\": \"DS\", \"Mobile\": 12345}\n",
        "       - a[\"name\"] >> Here you will get the value.\n",
        "       - 'Anil'\n",
        "       - a[\"name\"] = \"new_name\"  >> Here you will get the erroe because key is unique and we cannot change it or replace. that's the understanding."
      ],
      "metadata": {
        "id": "uEWszEhz1gcE"
      }
    },
    {
      "cell_type": "markdown",
      "source": [
        "5. Why might you use a set instead of a list in Python?\n",
        "   - Because sets keep the unique elements and remove the duplicates. this is the beauty of set that's why it is used to remove the duplicates values.\n",
        "   - Sets are unordererd collection of elements.\n",
        "   - But lists didn't removes the duplicate value that's why set is used instead of lists.\n",
        "\n",
        "      - Example:\n",
        "      - a = {'anil', 1, 2.55, 'anil'}\n",
        "      - print(a)\n",
        "      - output >> {anil, 1, 2.55} >> Get the result after removing the duplicate value."
      ],
      "metadata": {
        "id": "jsggesBg3PX6"
      }
    },
    {
      "cell_type": "markdown",
      "source": [
        "6. What is a string in Python, and how is it different from a list?\n",
        "   - In Python, String is a character of sequence which is used to defined the data tp managing and storing.\n",
        "   - str is a immutable data type in python but a list is a mutable data type.\n",
        "   - It stores the character value, but a list stores the everything not only the string value.\n",
        "       - Example os string:\n",
        "       - a = ('Anil' , 'Ayush', 'Pw')\n",
        "              -> Example of list:\n",
        "              ->  a = ['Anil', 1, True, 2.6545, bool, not]"
      ],
      "metadata": {
        "id": "yIBy9uLJ5IJl"
      }
    },
    {
      "cell_type": "markdown",
      "source": [
        "7. How do tuples ensure data integrity in Python?\n",
        "   - Immutability; It prevents the accidental modification like;\n",
        "   - a = (1, 2, 3, 4)\n",
        "   - a[1] = 121\n",
        "   - output: It will throw an errror\n",
        "     - tuples are stored in a more memory-efficient way than lists, reducing the likelihood of unintended modifications due to lower head.\n",
        "     - tuples help maintain data consistency and reliability in Python program."
      ],
      "metadata": {
        "id": "SnPoXUXq69Gb"
      }
    },
    {
      "cell_type": "markdown",
      "source": [
        "8. What is a hash table, and how does it relate to dictionaries in Python?\n",
        "   - A hash table is also known as hash map.\n",
        "   - It is used to storing and retrieving the data. It is a data structue that stores key-value pairs.\n",
        "   - 1. A hash function takes a key and converts it into a hash value(an integer).\n",
        "   - 2. This hash value determines the **index** in an array where the value will be stored.\n",
        "   - 3. When retrieving the data, the same hash function is used to find the index efficiently.\n",
        "   - 4. collison handling\n",
        "\n",
        "\n",
        "       - In Python, dict are implemented as hash tables.\n",
        "       - 1. keys are hashed:\n",
        "       - 2. fast lookups:\n",
        "       - 3. Handling collisions:\n",
        "       - 4. dictionaries key must be hashable\n",
        "       \n",
        "   "
      ],
      "metadata": {
        "id": "ROoCYSeBJOzY"
      }
    },
    {
      "cell_type": "markdown",
      "source": [
        "9. Can lists contain different data types in Python?\n",
        "   - Yes, lists can contain different data types in python.\n",
        "   - because lists are heterogenous data type.\n",
        "       - Examples:\n",
        "       - list1 = ['anil', 10, 1.2532, 'True', bool, (1,2,3),  {\"name\": \"anil\", \"course\": \"DataScience\"}, None]"
      ],
      "metadata": {
        "id": "aVWjR8PrQLX7"
      }
    },
    {
      "cell_type": "markdown",
      "source": [
        "10.  Explain why strings are immutable in Python?\n",
        "    - Because it is a sequence of character and str doesn't support the item assignment.\n",
        "    - Once a string is created, it can not be changed.\n",
        "        - str provides the several key advantages:\n",
        "        - 1. Hash-ability\n",
        "        - 2. key value pairs\n",
        "        - 3. memory efficiency\n",
        "        - 4. security, performance\n",
        "        - 5. reliability"
      ],
      "metadata": {
        "id": "Sftv3hjORUpx"
      }
    },
    {
      "cell_type": "markdown",
      "source": [
        "11. What advantages do dictionaries offer over lists for certain tasks?\n",
        "    - Dictionaries offer very fast searching the value, because it contain as key-value pairs.\n",
        "    - it's searching is very fast as compare to list.\n",
        "       -Example:\n",
        "       - shoping_list = ['potato', 'tomato', 'pea', 'redish', 'lichi']\n",
        "       - for item in shoping_list:\n",
        "       - print(item, end = \"redish\") >> value will bw printed except lichi.\n",
        "\n",
        "           -  data = {\"name\": \"anil\", \"subject\": \"analytics\", \"contact\": 1234500000}\n",
        "           - data[\"subject\"]\n",
        "           - output: you will get here 'analytics'\n",
        "           - because here tha elements of data stored in key-value pairs. that's why it is use more efficient to find the element of the data."
      ],
      "metadata": {
        "id": "v9q61KEDSqJA"
      }
    },
    {
      "cell_type": "markdown",
      "source": [
        "12. Describe a scenario where using a tuple would be preferable over a list?\n",
        "    - A tuple would be preferable over a list when immutability is desired, it means data should not be change after the creation.\n",
        "         - A tuple is much more faster than list for read only data.\n",
        "         - tuple can be used as key value pairs than the list cannnot do that.\n",
        "\n",
        "        - example:\n",
        "               - GPS naviagtor is used to mark down the lattitude and longtitude of the land. in this case it should not be changed the location of data, at that particular time tuple is much more efffective to create because it can't be change or modified the location.\n",
        "\n",
        "               - location = ('Patna': 470.00, 'Banglore': 56.025)\n",
        "               - here location can't be changed because it stored int he form of tuple.\n",
        "\n",
        "            - location = ['Patna': 470.00, 'Banglore': 56.025] >> Here the value canbe accidently modified, it can be chance od data loss but in tuple can not be data loss.\n",
        "            - because tuple provides the security, performance, realibility and safety thread."
      ],
      "metadata": {
        "id": "9h27zg8OV4-i"
      }
    },
    {
      "cell_type": "markdown",
      "source": [
        "13. How do sets handle duplicate values in Python?\n",
        "    - Set is an unordererd and unique collection elements.\n",
        "    - It is mutable data types.\n",
        "        - a = {'anil', 125, 'book', 'anil'}\n",
        "        - print(a)\n",
        "        - output: you will get the value {'anil', 125, 'book') >> here 'anil' duplicate value removed automatically. it is a type of functions in python that removes the dupicate value from elements."
      ],
      "metadata": {
        "id": "7M_z9T2xcb6w"
      }
    },
    {
      "cell_type": "markdown",
      "source": [
        "14. How does the “in” keyword work differently for lists and dictionaries?\n",
        "    - 'in' keyword is used in both lists and dictionaries, to check membership in elements .\n",
        "    - in lists 'in' keyword it helps to find the values in entire list and get return in boolean value, like True or False.\n",
        "        - Example:\n",
        "          - list1 = [1, 2, 3]\n",
        "          - print(2 in list1]\n",
        "          - output: you will get true here.\n",
        "\n",
        "             - print(10 in list1)\n",
        "             - output: you will get False here.\n",
        "\n",
        "    - Example: Dictionaries\n",
        "      - book = {\"name\": \"anil\", \"subject\": \"DS\", \"contact\": 12345}\n",
        "      - print(\"name\" in book)\n",
        "      - Output: You will get here True >> because name is in book.\n",
        "         - In dictionaries, \"in\" keyword find the key not the value.\n",
        "         - if you have to find the value in dictionaries so you will have to do\n",
        "         - print(anil in (book.values))\n",
        "         - Output: You will get here 'anil'\n",
        "\n",
        "\n",
        "           - For lists: 'in' checks for values in the list.\n",
        "           - for dictionaries: 'in' checks for keys in the dictionaries, not the values (unless .value() is used)."
      ],
      "metadata": {
        "id": "MC8ZNSCNdl06"
      }
    },
    {
      "cell_type": "markdown",
      "source": [
        "15. Can you modify the elements of a tuple? Explain why or why not?\n",
        "    - NO, we can't modify the elements of a tuple. because tuple is immutable data type in python, once a tuple is created, it cannot be changed, remove, added and modify. It remains constant throughout the lifetime, making them usefull for storing the fixed data.\n",
        "       -  However, the mutable objects in tuple like (list, dict) then you can modify those particular mutable elements in python, But the tuples itself reamins unchanged in terms of structure and identity.\n",
        "\n",
        "       - Example:\n",
        "             - t (1, 2, 3, [4, 5, 6])\n",
        "             - t[2].append(7) # modifying the list inside the tuple\n",
        "             - print(t)\n",
        "             - Output: (1, 2, 3, [4, 5, 6, 7])"
      ],
      "metadata": {
        "id": "H8jVw0lkwGN5"
      }
    },
    {
      "cell_type": "markdown",
      "source": [
        "16. What is a nested dictionary, and give an example of its use case?\n",
        "    - A nested dictionary is a dictionary within another dictionary which is called nested dictionary.\n",
        "      - example:\n",
        "        - my_dict1 = {\"ID001\": {\"name\": \"anil\", \"city\": \"Bhopal\", \"Contact\": 12345}, \"ID\": {\"name\": \"sunil\", \"city\": \"Patna\", \"contact\": 54321}, \"ID\": {\"name\": \"Preeti\":, \"City\": \"Banglore\", \"contact\": 76455}}\n",
        "\n",
        "            - Use a nested dictionary:\n",
        "            - Hierarchical data representation\n",
        "            - felixble and scalable\n",
        "            - Efficient data retrieval\n",
        "\n",
        "                - This structure is widely used in databases and real world applications."
      ],
      "metadata": {
        "id": "yxcc8wEd12Pv"
      }
    },
    {
      "cell_type": "markdown",
      "source": [
        "17. Describe the time complexity of accessing elements in a dictionary?\n",
        "    - Python dictionaries are implemented as a hash table, so loooking up a key is generally very fast.\n",
        "    - The key is hashed and its corresponding value is retrieved in constant time.\n",
        "\n",
        "        - For most practical scenarios, dictionary operations in python run in constant time, making them highly efficient."
      ],
      "metadata": {
        "id": "DFcpQ_fx5J0Y"
      }
    },
    {
      "cell_type": "markdown",
      "source": [
        "18.  In what situations are lists preferred over dictionaries?\n",
        "    - When order matters, lists are used.\n",
        "    - When you need index accessed.\n",
        "    - Lists use integer based indexing which allows fast sequential access.\n",
        "    - when data is homogenous.\n",
        "    - when memory efficiency is needed\n",
        "    - when you need fast iteration."
      ],
      "metadata": {
        "id": "pzioXXHF6MHj"
      }
    },
    {
      "cell_type": "markdown",
      "source": [
        "19. Why are dictionaries considered unordered, and how does that affect data retrieval?\n",
        "    - In older version of python, It is considered unordererd beacuse they were implemented using hash tables. but in modern pyton they were are ordered but lookup efficiency ramains 0(1) because of hashed storage.\n",
        "        - It affects the fast looups.\n",
        "        - It has no sequential indexing."
      ],
      "metadata": {
        "id": "7ouhdsM_8sg0"
      }
    },
    {
      "cell_type": "markdown",
      "source": [
        "20. Explain the difference between a list and a dictionary in terms of data retrieval?\n",
        "    - List is accessing by the indexing method where dictionary is accessing the key (dict.[key])\n",
        "    - Lists is searching by sequential method where dictionary is searching by hash table lookup (0(1) on average)\n",
        "    - Dictionary has key based retrieval but lists has not.\n",
        "\n",
        "        - examples:\n",
        "          - **List retrieval by index:**\n",
        "          - students = [\"anil\", Sunil\", \"pawan\", \"suman\" , \"alakh]\n",
        "          - students[1]\n",
        "          - Output: # 'sunil'\n",
        "        - Examples:\n",
        "         - **dictionary retrieval by key:**\n",
        "         - students = {\"name\": \"anil\", \"name2\": \"sunil\", \"name3\": \"pawan\", \"name4\": \"suman\", \"name5\": \"alakh\"}\n",
        "         - students.[name2]\n",
        "         - #Output: 'sunil'"
      ],
      "metadata": {
        "id": "A4NJ8cs9_Eau"
      }
    },
    {
      "cell_type": "markdown",
      "source": [
        "#**Practical Questions**"
      ],
      "metadata": {
        "id": "2SMyseMGZu3y"
      }
    },
    {
      "cell_type": "code",
      "source": [
        "# 1. Write a code to create a string with your name and print it?\n",
        "name = 'Anil'\n",
        "print(f\"My name is {name}\")\n"
      ],
      "metadata": {
        "colab": {
          "base_uri": "https://localhost:8080/"
        },
        "id": "OQzN8lsWZrjU",
        "outputId": "56414f2c-2b36-4845-eda7-3699aa646e27"
      },
      "execution_count": 3,
      "outputs": [
        {
          "output_type": "stream",
          "name": "stdout",
          "text": [
            "My name is Anil\n"
          ]
        }
      ]
    },
    {
      "cell_type": "code",
      "source": [
        "# 2. Write a code to find the length of the string \"Hello World\"?\n",
        "program = \"Hello World\"\n",
        "print(f\"The length of the program is {len(program)}\")"
      ],
      "metadata": {
        "colab": {
          "base_uri": "https://localhost:8080/"
        },
        "id": "s_RXVc7odcz2",
        "outputId": "36e528f8-fb56-41c6-d5f9-270085501df9"
      },
      "execution_count": 5,
      "outputs": [
        {
          "output_type": "stream",
          "name": "stdout",
          "text": [
            "The length of the program is 11\n"
          ]
        }
      ]
    },
    {
      "cell_type": "code",
      "source": [
        "# 3. Write a code to slice the first 3 characters from the string \"Python Programming\"?\n",
        "a = \"Python Programming\"\n",
        "a[:3]"
      ],
      "metadata": {
        "colab": {
          "base_uri": "https://localhost:8080/",
          "height": 36
        },
        "id": "sa1DyA0megGx",
        "outputId": "30e17a68-8362-4be4-cef3-3dbc15211b0f"
      },
      "execution_count": 11,
      "outputs": [
        {
          "output_type": "execute_result",
          "data": {
            "text/plain": [
              "'Pyt'"
            ],
            "application/vnd.google.colaboratory.intrinsic+json": {
              "type": "string"
            }
          },
          "metadata": {},
          "execution_count": 11
        }
      ]
    },
    {
      "cell_type": "code",
      "source": [
        "# 4. Write a code to convert the string \"hello\" to uppercase?\n",
        "string = \"hello\"\n",
        "converted_string = string.upper()\n",
        "print(converted_string)"
      ],
      "metadata": {
        "colab": {
          "base_uri": "https://localhost:8080/"
        },
        "id": "K8Nh5810f1Rc",
        "outputId": "c273a14b-659c-4afb-d263-9afb100e98c3"
      },
      "execution_count": 13,
      "outputs": [
        {
          "output_type": "stream",
          "name": "stdout",
          "text": [
            "HELLO\n"
          ]
        }
      ]
    },
    {
      "cell_type": "code",
      "source": [
        "# 5. Write a code to replace the word \"apple\" with \"orange\" in the string \"I like apple\"?\n",
        "string = \"i like apple\"\n",
        "replace_string = string.replace(\"apple\", \"orange\")\n",
        "replace_string"
      ],
      "metadata": {
        "colab": {
          "base_uri": "https://localhost:8080/",
          "height": 36
        },
        "id": "PDMo_KBzgVi6",
        "outputId": "d4fb570e-6a4a-40e3-e319-26b17636127d"
      },
      "execution_count": 15,
      "outputs": [
        {
          "output_type": "execute_result",
          "data": {
            "text/plain": [
              "'i like orange'"
            ],
            "application/vnd.google.colaboratory.intrinsic+json": {
              "type": "string"
            }
          },
          "metadata": {},
          "execution_count": 15
        }
      ]
    },
    {
      "cell_type": "code",
      "source": [
        "# 6. Write a code to create a list with numbers 1 to 5 and print it?\n",
        "unique_list = [1, 2, 3, 4, 5]\n",
        "print(unique_list)"
      ],
      "metadata": {
        "colab": {
          "base_uri": "https://localhost:8080/"
        },
        "id": "WrtgB8ipg0Tf",
        "outputId": "10003e7b-6db4-406a-dfb4-aa6e68837b3d"
      },
      "execution_count": 17,
      "outputs": [
        {
          "output_type": "stream",
          "name": "stdout",
          "text": [
            "[1, 2, 3, 4, 5]\n"
          ]
        }
      ]
    },
    {
      "cell_type": "code",
      "source": [
        "# 7. Write a code to append the number 10 to the list [1, 2, 3, 4]?\n",
        "number = [1, 2, 3, 4]\n",
        "number.append(10)\n",
        "print(number)"
      ],
      "metadata": {
        "colab": {
          "base_uri": "https://localhost:8080/"
        },
        "id": "Hc4D_8qZhbU9",
        "outputId": "159eeaed-8d64-4a7b-895e-0d835fb048be"
      },
      "execution_count": 19,
      "outputs": [
        {
          "output_type": "stream",
          "name": "stdout",
          "text": [
            "[1, 2, 3, 4, 10]\n"
          ]
        }
      ]
    },
    {
      "cell_type": "code",
      "source": [
        "# 8. Write a code to remove the number 3 from the list [1, 2, 3, 4, 5]?\n",
        "number_of_list = [1, 2, 3, 4, 5]\n",
        "number_of_list.remove(3)\n",
        "print(number_of_list)"
      ],
      "metadata": {
        "colab": {
          "base_uri": "https://localhost:8080/"
        },
        "id": "WNk_kli8hzag",
        "outputId": "180cf769-19c3-4a66-fc1a-5f3b4fa08d9a"
      },
      "execution_count": 20,
      "outputs": [
        {
          "output_type": "stream",
          "name": "stdout",
          "text": [
            "[1, 2, 4, 5]\n"
          ]
        }
      ]
    },
    {
      "cell_type": "code",
      "source": [
        "# 9.  Write a code to access the second element in the list ['a', 'b', 'c', 'd']?\n",
        "str_list = ['a', 'b', 'c', 'd']\n",
        "str_list[1]"
      ],
      "metadata": {
        "colab": {
          "base_uri": "https://localhost:8080/",
          "height": 36
        },
        "id": "yFtgqTxziNwq",
        "outputId": "b139e984-ce7f-4f9f-9b84-c9f764bd9d67"
      },
      "execution_count": 22,
      "outputs": [
        {
          "output_type": "execute_result",
          "data": {
            "text/plain": [
              "'b'"
            ],
            "application/vnd.google.colaboratory.intrinsic+json": {
              "type": "string"
            }
          },
          "metadata": {},
          "execution_count": 22
        }
      ]
    },
    {
      "cell_type": "code",
      "source": [
        "# 10. Write a code to reverse the list [10, 20, 30, 40, 50]?\n",
        "int_list = [10, 20, 30, 40, 50]\n",
        "int_list[::-1]"
      ],
      "metadata": {
        "colab": {
          "base_uri": "https://localhost:8080/"
        },
        "id": "usG1dB82itHI",
        "outputId": "c18adc51-7f4d-4eb7-935e-066c1f903657"
      },
      "execution_count": 24,
      "outputs": [
        {
          "output_type": "execute_result",
          "data": {
            "text/plain": [
              "[50, 40, 30, 20, 10]"
            ]
          },
          "metadata": {},
          "execution_count": 24
        }
      ]
    }
  ]
}